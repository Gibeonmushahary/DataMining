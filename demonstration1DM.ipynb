{
 "cells": [
  {
   "cell_type": "code",
   "execution_count": 3,
   "id": "4135ab90-7cac-4b44-834d-e8c76aa49b83",
   "metadata": {},
   "outputs": [
    {
     "name": "stdout",
     "output_type": "stream",
     "text": [
      "Original Data:\n",
      "     Age   Salary  Experience\n",
      "0  25.0  50000.0         2.0\n",
      "1  30.0  54000.0         5.0\n",
      "2   NaN  58000.0         3.0\n",
      "3  22.0      NaN         4.0\n",
      "4  28.0  60000.0         NaN\n",
      "\n",
      "After Handling Missing Values:\n",
      "      Age   Salary  Experience\n",
      "0  25.00  50000.0         2.0\n",
      "1  30.00  54000.0         5.0\n",
      "2  26.25  58000.0         3.0\n",
      "3  22.00  55500.0         4.0\n",
      "4  28.00  60000.0         3.5\n",
      "\n",
      "After Normalization (Min-Max Scaling):\n",
      "        Age  Salary  Experience\n",
      "0  0.37500    0.00    0.000000\n",
      "1  1.00000    0.40    1.000000\n",
      "2  0.53125    0.80    0.333333\n",
      "3  0.00000    0.55    0.666667\n",
      "4  0.75000    1.00    0.500000\n"
     ]
    }
   ],
   "source": [
    "import pandas as pd\n",
    "from sklearn.impute import SimpleImputer\n",
    "from sklearn.preprocessing import MinMaxScaler\n",
    "\n",
    "\n",
    "data = {\n",
    "    'Age': [25, 30, None, 22, 28],\n",
    "    'Salary': [50000, 54000, 58000, None, 60000],\n",
    "    'Experience': [2, 5, 3, 4, None]\n",
    "}\n",
    "\n",
    "\n",
    "df = pd.DataFrame(data)\n",
    "print(\"Original Data:\\n\", df)\n",
    "\n",
    "\n",
    "imputer = SimpleImputer(strategy='mean')\n",
    "df_imputed = pd.DataFrame(imputer.fit_transform(df), columns=df.columns)\n",
    "print(\"\\nAfter Handling Missing Values:\\n\", df_imputed)\n",
    "\n",
    "\n",
    "scaler = MinMaxScaler()\n",
    "df_normalized = pd.DataFrame(scaler.fit_transform(df_imputed), columns=df.columns)\n",
    "print(\"\\nAfter Normalization (Min-Max Scaling):\\n\", df_normalized)\n"
   ]
  },
  {
   "cell_type": "code",
   "execution_count": null,
   "id": "33f59d2b-4787-4e5d-942c-4d41beaf84a3",
   "metadata": {},
   "outputs": [],
   "source": []
  }
 ],
 "metadata": {
  "kernelspec": {
   "display_name": "Python 3 (ipykernel)",
   "language": "python",
   "name": "python3"
  },
  "language_info": {
   "codemirror_mode": {
    "name": "ipython",
    "version": 3
   },
   "file_extension": ".py",
   "mimetype": "text/x-python",
   "name": "python",
   "nbconvert_exporter": "python",
   "pygments_lexer": "ipython3",
   "version": "3.12.7"
  }
 },
 "nbformat": 4,
 "nbformat_minor": 5
}
